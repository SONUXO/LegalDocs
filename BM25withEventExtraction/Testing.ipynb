{
 "cells": [
  {
   "cell_type": "code",
   "execution_count": 1,
   "metadata": {},
   "outputs": [],
   "source": [
    "import pandas as pd\n",
    "import os"
   ]
  },
  {
   "cell_type": "code",
   "execution_count": 2,
   "metadata": {},
   "outputs": [],
   "source": [
    "candidate_query = pd.read_csv('data/train_candidates.csv')\n",
    "train_query = pd.read_csv('data/train_queries.csv')"
   ]
  },
  {
   "cell_type": "code",
   "execution_count": 8,
   "metadata": {},
   "outputs": [
    {
     "data": {
      "text/html": [
       "<div>\n",
       "<style scoped>\n",
       "    .dataframe tbody tr th:only-of-type {\n",
       "        vertical-align: middle;\n",
       "    }\n",
       "\n",
       "    .dataframe tbody tr th {\n",
       "        vertical-align: top;\n",
       "    }\n",
       "\n",
       "    .dataframe thead th {\n",
       "        text-align: right;\n",
       "    }\n",
       "</style>\n",
       "<table border=\"1\" class=\"dataframe\">\n",
       "  <thead>\n",
       "    <tr style=\"text-align: right;\">\n",
       "      <th></th>\n",
       "      <th>id</th>\n",
       "      <th>text</th>\n",
       "      <th>relevant_candidates</th>\n",
       "    </tr>\n",
       "  </thead>\n",
       "  <tbody>\n",
       "    <tr>\n",
       "      <th>0</th>\n",
       "      <td>599</td>\n",
       "      <td>['PETITIONER: &lt;NAME&gt; Vs. RESPONDENT: ROOP SING...</td>\n",
       "      <td>['0001292810' '0001742283']</td>\n",
       "    </tr>\n",
       "    <tr>\n",
       "      <th>1</th>\n",
       "      <td>2886</td>\n",
       "      <td>['JUDGMENT &lt;NAME&gt;, J. '\\n '1. This Civil Misce...</td>\n",
       "      <td>['0000066438' '0000087686' '0000091645' '00002...</td>\n",
       "    </tr>\n",
       "    <tr>\n",
       "      <th>2</th>\n",
       "      <td>9122</td>\n",
       "      <td>['JUDGMENT &lt;NAME&gt;, J. '\\n '1. These two are ap...</td>\n",
       "      <td>['0000882637']</td>\n",
       "    </tr>\n",
       "    <tr>\n",
       "      <th>3</th>\n",
       "      <td>9256</td>\n",
       "      <td>['ORDER &lt;NAME&gt;, J. '\\n \"1. The application fil...</td>\n",
       "      <td>['0000128011' '0000144447' '0000333647' '00006...</td>\n",
       "    </tr>\n",
       "    <tr>\n",
       "      <th>4</th>\n",
       "      <td>10271</td>\n",
       "      <td>['PETITIONER: STATE OF U.P. Vs. RESPONDENT: KR...</td>\n",
       "      <td>['0000040914' '0000455716' '0000686491' '00009...</td>\n",
       "    </tr>\n",
       "    <tr>\n",
       "      <th>...</th>\n",
       "      <td>...</td>\n",
       "      <td>...</td>\n",
       "      <td>...</td>\n",
       "    </tr>\n",
       "    <tr>\n",
       "      <th>822</th>\n",
       "      <td>188321725</td>\n",
       "      <td>['JUDGMENT &lt;NAME&gt;, &lt;NAME&gt; '\\n \"1. All these ap...</td>\n",
       "      <td>['0000079972' '0000194067' '0000312106' '00004...</td>\n",
       "    </tr>\n",
       "    <tr>\n",
       "      <th>823</th>\n",
       "      <td>190879973</td>\n",
       "      <td>['IN THE HIGH COURT AT CALCUTTA Appellate/Revi...</td>\n",
       "      <td>['0000060864' '0000504910' '0000539121' '00007...</td>\n",
       "    </tr>\n",
       "    <tr>\n",
       "      <th>824</th>\n",
       "      <td>193992552</td>\n",
       "      <td>['IN THE SUPREME COURT OF INDIA CIVIL APPELLAT...</td>\n",
       "      <td>['0000055804' '0000352163' '0000884513' '00008...</td>\n",
       "    </tr>\n",
       "    <tr>\n",
       "      <th>825</th>\n",
       "      <td>196344595</td>\n",
       "      <td>['REPORTABLE IN THE SUPREME COURT OF INDIA CIV...</td>\n",
       "      <td>['0000174675' '0000198387' '0000309285' '00004...</td>\n",
       "    </tr>\n",
       "    <tr>\n",
       "      <th>826</th>\n",
       "      <td>198095330</td>\n",
       "      <td>['PETITIONER: UNION OF INDIA &amp; ORS. Vs. RESPON...</td>\n",
       "      <td>['0000057245' '0000260704' '0000337342' '00008...</td>\n",
       "    </tr>\n",
       "  </tbody>\n",
       "</table>\n",
       "<p>827 rows × 3 columns</p>\n",
       "</div>"
      ],
      "text/plain": [
       "            id                                               text  \\\n",
       "0          599  ['PETITIONER: <NAME> Vs. RESPONDENT: ROOP SING...   \n",
       "1         2886  ['JUDGMENT <NAME>, J. '\\n '1. This Civil Misce...   \n",
       "2         9122  ['JUDGMENT <NAME>, J. '\\n '1. These two are ap...   \n",
       "3         9256  ['ORDER <NAME>, J. '\\n \"1. The application fil...   \n",
       "4        10271  ['PETITIONER: STATE OF U.P. Vs. RESPONDENT: KR...   \n",
       "..         ...                                                ...   \n",
       "822  188321725  ['JUDGMENT <NAME>, <NAME> '\\n \"1. All these ap...   \n",
       "823  190879973  ['IN THE HIGH COURT AT CALCUTTA Appellate/Revi...   \n",
       "824  193992552  ['IN THE SUPREME COURT OF INDIA CIVIL APPELLAT...   \n",
       "825  196344595  ['REPORTABLE IN THE SUPREME COURT OF INDIA CIV...   \n",
       "826  198095330  ['PETITIONER: UNION OF INDIA & ORS. Vs. RESPON...   \n",
       "\n",
       "                                   relevant_candidates  \n",
       "0                          ['0001292810' '0001742283']  \n",
       "1    ['0000066438' '0000087686' '0000091645' '00002...  \n",
       "2                                       ['0000882637']  \n",
       "3    ['0000128011' '0000144447' '0000333647' '00006...  \n",
       "4    ['0000040914' '0000455716' '0000686491' '00009...  \n",
       "..                                                 ...  \n",
       "822  ['0000079972' '0000194067' '0000312106' '00004...  \n",
       "823  ['0000060864' '0000504910' '0000539121' '00007...  \n",
       "824  ['0000055804' '0000352163' '0000884513' '00008...  \n",
       "825  ['0000174675' '0000198387' '0000309285' '00004...  \n",
       "826  ['0000057245' '0000260704' '0000337342' '00008...  \n",
       "\n",
       "[827 rows x 3 columns]"
      ]
     },
     "execution_count": 8,
     "metadata": {},
     "output_type": "execute_result"
    }
   ],
   "source": [
    "train_query"
   ]
  },
  {
   "cell_type": "code",
   "execution_count": 7,
   "metadata": {},
   "outputs": [],
   "source": [
    "import pandas as pd\n",
    "import json\n",
    "\n",
    "# Extract relevant candidates without modifying the original DataFrame\n",
    "candidates = train_query[\"relevant_candidates\"].apply(lambda x: x.strip(\"[]\").replace(\"'\", \"\").split())\n",
    "\n",
    "# Flatten and get unique values\n",
    "unique_candidates = set(candidate for sublist in candidates for candidate in sublist)\n",
    "\n",
    "# Create JSON structure\n",
    "json_data = {\"relevant candidates\": list(unique_candidates)}\n",
    "\n",
    "# Save JSON in a single-line format\n",
    "with open(\"relevant_cases.json\", \"w\") as f:\n",
    "    json.dump(json_data, f, separators=(\",\", \":\"))\n"
   ]
  },
  {
   "cell_type": "code",
   "execution_count": 15,
   "metadata": {},
   "outputs": [],
   "source": [
    "import json\n",
    "\n",
    "# Extract relevant candidates without modifying train_query\n",
    "def extract_candidates(candidate_str):\n",
    "    return candidate_str.strip(\"[]\").replace(\"'\", \"\").split()"
   ]
  },
  {
   "cell_type": "code",
   "execution_count": 19,
   "metadata": {},
   "outputs": [],
   "source": [
    "# Construct the Query Set with horizontal format for \"relevant candidates\"\n",
    "query_set = [\n",
    "    {\n",
    "        \"id\": str(row[\"id\"]),\n",
    "        \"relevant candidates\": extract_candidates(row[\"relevant_candidates\"])\n",
    "    }\n",
    "    for _, row in train_query.iterrows()\n",
    "]\n",
    "\n",
    "# Extract unique candidate case IDs\n",
    "candidate_ids = set(cid for row in train_query[\"relevant_candidates\"] for cid in extract_candidates(row))"
   ]
  },
  {
   "cell_type": "code",
   "execution_count": 20,
   "metadata": {},
   "outputs": [],
   "source": [
    "# Construct the Candidate Set\n",
    "candidate_set = [{\"id\": cid} for cid in sorted(candidate_ids)]\n",
    "\n",
    "# Final JSON structure\n",
    "json_data = {\n",
    "    \"Query Set\": query_set,\n",
    "    \"Candidate Set\": candidate_set\n",
    "}\n",
    "\n",
    "# Save to JSON file with improved readability\n",
    "with open(\"legal_case_data.json\", \"w\") as f:\n",
    "    json.dump(json_data, f, indent=4)  # Indent for better readability"
   ]
  },
  {
   "cell_type": "code",
   "execution_count": null,
   "metadata": {},
   "outputs": [],
   "source": []
  }
 ],
 "metadata": {
  "kernelspec": {
   "display_name": "machine_learning",
   "language": "python",
   "name": "python3"
  },
  "language_info": {
   "codemirror_mode": {
    "name": "ipython",
    "version": 3
   },
   "file_extension": ".py",
   "mimetype": "text/x-python",
   "name": "python",
   "nbconvert_exporter": "python",
   "pygments_lexer": "ipython3",
   "version": "3.6.13"
  }
 },
 "nbformat": 4,
 "nbformat_minor": 2
}
