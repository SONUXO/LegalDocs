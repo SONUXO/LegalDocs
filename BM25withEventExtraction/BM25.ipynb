{
 "cells": [
  {
   "cell_type": "code",
   "execution_count": 1,
   "metadata": {},
   "outputs": [],
   "source": [
    "import os, sys, json, time, re, string, codecs, random, numpy as np, pandas as pd\n",
    "#import evaluate_at_K\n",
    "from tqdm.notebook import tqdm_notebook\n",
    "import pickle as pkl\n",
    "import ast\n",
    "from sklearn.feature_extraction.text import TfidfVectorizer\n",
    "from scipy import sparse"
   ]
  },
  {
   "cell_type": "code",
   "execution_count": 2,
   "metadata": {},
   "outputs": [],
   "source": [
    "class BM25(object):\n",
    "    def __init__(self, b=0.7, k1=1.6, n_gram:int = 3):\n",
    "        self.n_gram = n_gram\n",
    "        self.vectorizer = TfidfVectorizer(max_df=.65, min_df=1,\n",
    "                                  use_idf=True, \n",
    "                                  ngram_range=(n_gram, n_gram))\n",
    "        self.b = b\n",
    "        self.k1 = k1\n",
    "\n",
    "    def fit(self, X):\n",
    "        \"\"\" Fit IDF to documents X \"\"\"\n",
    "        start_time = time.perf_counter()\n",
    "        print(f\"Fitting tf_idf vectorizer\")\n",
    "\n",
    "        y = self.vectorizer.fit_transform(X)  # Combine fit and transform\n",
    "        self.avdl = y.sum(1).mean()\n",
    "\n",
    "        print(f\"Finished tf_idf vectorizer, time : {time.perf_counter() - start_time:0.3f} sec\")\n",
    "\n",
    "    def transform(self, q, X):\n",
    "        \"\"\" Calculate BM25 between query q and documents X \"\"\"\n",
    "        b, k1, avdl = self.b, self.k1, self.avdl\n",
    "\n",
    "        if not q.strip():  # Handle empty queries\n",
    "            return np.zeros(len(X))  \n",
    "\n",
    "        # apply CountVectorizer\n",
    "        X = super(TfidfVectorizer, self.vectorizer).transform(X)\n",
    "        len_X = X.sum(1).A1\n",
    "        q, = super(TfidfVectorizer, self.vectorizer).transform([q])\n",
    "        \n",
    "        if q.nnz == 0:  # If query has no tokens in vocabulary\n",
    "            return np.zeros(len(X))  \n",
    "\n",
    "        assert sparse.isspmatrix_csr(q)\n",
    "\n",
    "        # convert to csc for better column slicing\n",
    "        X = X.tocsc()[:, q.indices]\n",
    "        denom = X + (k1 * (1 - b + b * len_X / avdl))[:, None]\n",
    "        idf = self.vectorizer._tfidf.idf_[None, q.indices] - 1.\n",
    "        numer = X.multiply(np.broadcast_to(idf, X.shape)) * (k1 + 1)                                                          \n",
    "        return (numer / denom).sum(1).A1"
   ]
  },
  {
   "cell_type": "code",
   "execution_count": 3,
   "metadata": {},
   "outputs": [],
   "source": [
    "# Load Data\n",
    "candidate_query = pd.read_csv('data/train_candidates.csv')  # Added `.csv`\n",
    "corpus = list(candidate_query[\"text\"])  # List of candidate case texts\n",
    "citation_names = list(candidate_query[\"id\"].astype(str))  # List of case IDs (string format)\n",
    "\n",
    "train_query = pd.read_csv('data/train_queries.csv')  # Added `.csv`\n",
    "query_corpus = list(train_query[\"text\"])  # List of query case texts\n",
    "query_names = list(train_query[\"id\"].astype(str))  # List of query case IDs (string format)"
   ]
  },
  {
   "cell_type": "code",
   "execution_count": 11,
   "metadata": {},
   "outputs": [],
   "source": [
    "# Convert `relevant_candidates` into a dictionary\n",
    "true_labels = {}\n",
    "for index, row in train_query.iterrows():\n",
    "    query_id = str(row[\"id\"])  \n",
    "    relevant_cases = row[\"relevant_candidates\"]\n",
    "\n",
    "    if isinstance(relevant_cases, str):  \n",
    "        relevant_cases = ast.literal_eval(relevant_cases)  \n",
    "    \n",
    "    if isinstance(relevant_cases, float):  \n",
    "        relevant_cases = []\n",
    "    \n",
    "    true_labels[query_id] = list(map(str, relevant_cases))  "
   ]
  },
  {
   "cell_type": "code",
   "execution_count": 4,
   "metadata": {},
   "outputs": [
    {
     "name": "stdout",
     "output_type": "stream",
     "text": [
      "Fitting tf_idf vectorizer\n",
      "Finished tf_idf vectorizer, time : 74.136 sec\n"
     ]
    }
   ],
   "source": [
    "# Train BM25 Model\n",
    "bm25 = BM25(n_gram=3)\n",
    "bm25.fit(corpus)"
   ]
  },
  {
   "cell_type": "code",
   "execution_count": 5,
   "metadata": {},
   "outputs": [],
   "source": [
    "from tqdm import tqdm"
   ]
  },
  {
   "cell_type": "code",
   "execution_count": 6,
   "metadata": {},
   "outputs": [
    {
     "name": "stderr",
     "output_type": "stream",
     "text": [
      "100%|██████████| 827/827 [7:44:17<00:00, 33.69s/it]  \n"
     ]
    }
   ],
   "source": [
    "# Compute BM25 scores\n",
    "bm_25_results_dict = {}\n",
    "for i in tqdm(range(len (query_corpus))):\n",
    "    qu = query_corpus[i]\n",
    "    qu_n = query_names[i]\n",
    "    doc_scores = bm25.transform(qu, corpus)\n",
    "    bm_25_results_dict[qu_n] = {citation_names[j]: doc_scores[j] for j in range(len(doc_scores))}"
   ]
  },
  {
   "cell_type": "code",
   "execution_count": 7,
   "metadata": {},
   "outputs": [],
   "source": [
    "# Convert results to DataFrame\n",
    "bm_25_results_list = []\n",
    "for query_id, scores in bm_25_results_dict.items():\n",
    "    for doc_id, score in scores.items():\n",
    "        bm_25_results_list.append([query_id, doc_id, score])\n",
    "bm_25_results_df = pd.DataFrame(bm_25_results_list, columns=['query_case_id', 'candidate_case_id', 'bm25_score'])\n"
   ]
  },
  {
   "cell_type": "code",
   "execution_count": 8,
   "metadata": {},
   "outputs": [],
   "source": [
    "bm_25_results_df.to_csv(\"bm25_similarity_trigram.csv\", index=False)"
   ]
  },
  {
   "cell_type": "code",
   "execution_count": 9,
   "metadata": {},
   "outputs": [
    {
     "data": {
      "text/html": [
       "<div>\n",
       "<style scoped>\n",
       "    .dataframe tbody tr th:only-of-type {\n",
       "        vertical-align: middle;\n",
       "    }\n",
       "\n",
       "    .dataframe tbody tr th {\n",
       "        vertical-align: top;\n",
       "    }\n",
       "\n",
       "    .dataframe thead th {\n",
       "        text-align: right;\n",
       "    }\n",
       "</style>\n",
       "<table border=\"1\" class=\"dataframe\">\n",
       "  <thead>\n",
       "    <tr style=\"text-align: right;\">\n",
       "      <th></th>\n",
       "      <th>query_case_id</th>\n",
       "      <th>candidate_case_id</th>\n",
       "      <th>bm25_score</th>\n",
       "    </tr>\n",
       "  </thead>\n",
       "  <tbody>\n",
       "    <tr>\n",
       "      <th>0</th>\n",
       "      <td>599</td>\n",
       "      <td>262</td>\n",
       "      <td>7.663426</td>\n",
       "    </tr>\n",
       "    <tr>\n",
       "      <th>1</th>\n",
       "      <td>599</td>\n",
       "      <td>599</td>\n",
       "      <td>565.505087</td>\n",
       "    </tr>\n",
       "    <tr>\n",
       "      <th>2</th>\n",
       "      <td>599</td>\n",
       "      <td>1566</td>\n",
       "      <td>13.726064</td>\n",
       "    </tr>\n",
       "    <tr>\n",
       "      <th>3</th>\n",
       "      <td>599</td>\n",
       "      <td>2408</td>\n",
       "      <td>6.876886</td>\n",
       "    </tr>\n",
       "    <tr>\n",
       "      <th>4</th>\n",
       "      <td>599</td>\n",
       "      <td>2442</td>\n",
       "      <td>8.041049</td>\n",
       "    </tr>\n",
       "  </tbody>\n",
       "</table>\n",
       "</div>"
      ],
      "text/plain": [
       "  query_case_id candidate_case_id  bm25_score\n",
       "0           599               262    7.663426\n",
       "1           599               599  565.505087\n",
       "2           599              1566   13.726064\n",
       "3           599              2408    6.876886\n",
       "4           599              2442    8.041049"
      ]
     },
     "execution_count": 9,
     "metadata": {},
     "output_type": "execute_result"
    }
   ],
   "source": [
    "bm_25_results_df.head()"
   ]
  },
  {
   "cell_type": "code",
   "execution_count": 5,
   "metadata": {},
   "outputs": [],
   "source": [
    "bm_25_results_df = pd.read_csv(\"results/bm25_similarity_trigram.csv\")"
   ]
  },
  {
   "cell_type": "markdown",
   "metadata": {},
   "source": [
    "### Get the true labels.json file"
   ]
  },
  {
   "cell_type": "code",
   "execution_count": 9,
   "metadata": {},
   "outputs": [
    {
     "name": "stdout",
     "output_type": "stream",
     "text": [
      "saved ground truth labels to true_labels.json\n"
     ]
    }
   ],
   "source": [
    "true_labels_json_path = \"true_labels.json\"\n",
    "\n",
    "true_labels_dict = {\n",
    "    \"Query Set\": [{\"id\": qid, \"relevant candidates\": rel_cases} for qid, rel_cases in true_labels.items()],\n",
    "    \"Candidate Set\": [{\"id\": str(doc_id)} for doc_id in bm_25_results_df[\"candidate_case_id\"].unique()]\n",
    "}\n",
    "\n",
    "with open(true_labels_json_path, \"w\") as f:\n",
    "    json.dump(true_labels_dict, f, indent=4)\n",
    "\n",
    "print(f\"saved ground truth labels to {true_labels_json_path}\")"
   ]
  },
  {
   "cell_type": "markdown",
   "metadata": {},
   "source": [
    "### Get top 10 cases for each"
   ]
  },
  {
   "cell_type": "code",
   "execution_count": 8,
   "metadata": {},
   "outputs": [
    {
     "data": {
      "text/html": [
       "<div>\n",
       "<style scoped>\n",
       "    .dataframe tbody tr th:only-of-type {\n",
       "        vertical-align: middle;\n",
       "    }\n",
       "\n",
       "    .dataframe tbody tr th {\n",
       "        vertical-align: top;\n",
       "    }\n",
       "\n",
       "    .dataframe thead th {\n",
       "        text-align: right;\n",
       "    }\n",
       "</style>\n",
       "<table border=\"1\" class=\"dataframe\">\n",
       "  <thead>\n",
       "    <tr style=\"text-align: right;\">\n",
       "      <th></th>\n",
       "      <th>query_case_id</th>\n",
       "      <th>candidate_case_id</th>\n",
       "      <th>bm25_score</th>\n",
       "    </tr>\n",
       "  </thead>\n",
       "  <tbody>\n",
       "    <tr>\n",
       "      <th>0</th>\n",
       "      <td>599</td>\n",
       "      <td>599</td>\n",
       "      <td>565.505087</td>\n",
       "    </tr>\n",
       "    <tr>\n",
       "      <th>1</th>\n",
       "      <td>599</td>\n",
       "      <td>1207163</td>\n",
       "      <td>79.834238</td>\n",
       "    </tr>\n",
       "    <tr>\n",
       "      <th>2</th>\n",
       "      <td>599</td>\n",
       "      <td>264503</td>\n",
       "      <td>79.293065</td>\n",
       "    </tr>\n",
       "    <tr>\n",
       "      <th>3</th>\n",
       "      <td>599</td>\n",
       "      <td>1292810</td>\n",
       "      <td>62.289251</td>\n",
       "    </tr>\n",
       "    <tr>\n",
       "      <th>4</th>\n",
       "      <td>599</td>\n",
       "      <td>1296654</td>\n",
       "      <td>53.997327</td>\n",
       "    </tr>\n",
       "    <tr>\n",
       "      <th>...</th>\n",
       "      <td>...</td>\n",
       "      <td>...</td>\n",
       "      <td>...</td>\n",
       "    </tr>\n",
       "    <tr>\n",
       "      <th>8265</th>\n",
       "      <td>198095330</td>\n",
       "      <td>1569551</td>\n",
       "      <td>34.974201</td>\n",
       "    </tr>\n",
       "    <tr>\n",
       "      <th>8266</th>\n",
       "      <td>198095330</td>\n",
       "      <td>1921344</td>\n",
       "      <td>33.565374</td>\n",
       "    </tr>\n",
       "    <tr>\n",
       "      <th>8267</th>\n",
       "      <td>198095330</td>\n",
       "      <td>1619781</td>\n",
       "      <td>32.490590</td>\n",
       "    </tr>\n",
       "    <tr>\n",
       "      <th>8268</th>\n",
       "      <td>198095330</td>\n",
       "      <td>651925</td>\n",
       "      <td>31.206012</td>\n",
       "    </tr>\n",
       "    <tr>\n",
       "      <th>8269</th>\n",
       "      <td>198095330</td>\n",
       "      <td>57245</td>\n",
       "      <td>30.273374</td>\n",
       "    </tr>\n",
       "  </tbody>\n",
       "</table>\n",
       "<p>8270 rows × 3 columns</p>\n",
       "</div>"
      ],
      "text/plain": [
       "      query_case_id  candidate_case_id  bm25_score\n",
       "0               599                599  565.505087\n",
       "1               599            1207163   79.834238\n",
       "2               599             264503   79.293065\n",
       "3               599            1292810   62.289251\n",
       "4               599            1296654   53.997327\n",
       "...             ...                ...         ...\n",
       "8265      198095330            1569551   34.974201\n",
       "8266      198095330            1921344   33.565374\n",
       "8267      198095330            1619781   32.490590\n",
       "8268      198095330             651925   31.206012\n",
       "8269      198095330              57245   30.273374\n",
       "\n",
       "[8270 rows x 3 columns]"
      ]
     },
     "execution_count": 8,
     "metadata": {},
     "output_type": "execute_result"
    }
   ],
   "source": [
    "import pandas as pd\n",
    "\n",
    "# Get the top 10 candidate_case_id for each query_case_id based on bm25_score\n",
    "top_k = bm_25_results_df.groupby(\"query_case_id\").apply(lambda x: x.nlargest(10, \"bm25_score\")).reset_index(drop=True)\n",
    "\n",
    "top_k\n",
    "# Save the results\n",
    "#top_k.to_csv(\"top_10_cases.csv\", index=False)"
   ]
  },
  {
   "cell_type": "code",
   "execution_count": 9,
   "metadata": {},
   "outputs": [
    {
     "data": {
      "text/html": [
       "<div>\n",
       "<style scoped>\n",
       "    .dataframe tbody tr th:only-of-type {\n",
       "        vertical-align: middle;\n",
       "    }\n",
       "\n",
       "    .dataframe tbody tr th {\n",
       "        vertical-align: top;\n",
       "    }\n",
       "\n",
       "    .dataframe thead th {\n",
       "        text-align: right;\n",
       "    }\n",
       "</style>\n",
       "<table border=\"1\" class=\"dataframe\">\n",
       "  <thead>\n",
       "    <tr style=\"text-align: right;\">\n",
       "      <th></th>\n",
       "      <th>query_case_id</th>\n",
       "      <th>candidate_case_id</th>\n",
       "      <th>bm25_score</th>\n",
       "    </tr>\n",
       "  </thead>\n",
       "  <tbody>\n",
       "    <tr>\n",
       "      <th>0</th>\n",
       "      <td>599</td>\n",
       "      <td>599</td>\n",
       "      <td>565.505087</td>\n",
       "    </tr>\n",
       "    <tr>\n",
       "      <th>1</th>\n",
       "      <td>599</td>\n",
       "      <td>1207163</td>\n",
       "      <td>79.834238</td>\n",
       "    </tr>\n",
       "    <tr>\n",
       "      <th>2</th>\n",
       "      <td>599</td>\n",
       "      <td>264503</td>\n",
       "      <td>79.293065</td>\n",
       "    </tr>\n",
       "    <tr>\n",
       "      <th>3</th>\n",
       "      <td>599</td>\n",
       "      <td>1292810</td>\n",
       "      <td>62.289251</td>\n",
       "    </tr>\n",
       "    <tr>\n",
       "      <th>4</th>\n",
       "      <td>599</td>\n",
       "      <td>1296654</td>\n",
       "      <td>53.997327</td>\n",
       "    </tr>\n",
       "    <tr>\n",
       "      <th>5</th>\n",
       "      <td>599</td>\n",
       "      <td>1742283</td>\n",
       "      <td>51.809976</td>\n",
       "    </tr>\n",
       "    <tr>\n",
       "      <th>6</th>\n",
       "      <td>599</td>\n",
       "      <td>175790</td>\n",
       "      <td>50.351227</td>\n",
       "    </tr>\n",
       "    <tr>\n",
       "      <th>7</th>\n",
       "      <td>599</td>\n",
       "      <td>468835</td>\n",
       "      <td>50.349985</td>\n",
       "    </tr>\n",
       "    <tr>\n",
       "      <th>8</th>\n",
       "      <td>599</td>\n",
       "      <td>811367</td>\n",
       "      <td>48.402506</td>\n",
       "    </tr>\n",
       "    <tr>\n",
       "      <th>9</th>\n",
       "      <td>599</td>\n",
       "      <td>1694314</td>\n",
       "      <td>47.644333</td>\n",
       "    </tr>\n",
       "  </tbody>\n",
       "</table>\n",
       "</div>"
      ],
      "text/plain": [
       "   query_case_id  candidate_case_id  bm25_score\n",
       "0            599                599  565.505087\n",
       "1            599            1207163   79.834238\n",
       "2            599             264503   79.293065\n",
       "3            599            1292810   62.289251\n",
       "4            599            1296654   53.997327\n",
       "5            599            1742283   51.809976\n",
       "6            599             175790   50.351227\n",
       "7            599             468835   50.349985\n",
       "8            599             811367   48.402506\n",
       "9            599            1694314   47.644333"
      ]
     },
     "execution_count": 9,
     "metadata": {},
     "output_type": "execute_result"
    }
   ],
   "source": [
    "import pandas as pd \n",
    "top_k.head(10)"
   ]
  },
  {
   "cell_type": "code",
   "execution_count": null,
   "metadata": {},
   "outputs": [],
   "source": []
  }
 ],
 "metadata": {
  "kernelspec": {
   "display_name": "machine_learning",
   "language": "python",
   "name": "python3"
  },
  "language_info": {
   "codemirror_mode": {
    "name": "ipython",
    "version": 3
   },
   "file_extension": ".py",
   "mimetype": "text/x-python",
   "name": "python",
   "nbconvert_exporter": "python",
   "pygments_lexer": "ipython3",
   "version": "3.6.13"
  }
 },
 "nbformat": 4,
 "nbformat_minor": 2
}
